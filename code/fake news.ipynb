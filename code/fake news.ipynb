{
 "cells":[
  {
   "cell_type":"code",
   "source":[
    "import pandas as pd\n",
    "import numpy as np"
   ],
   "execution_count":1,
   "outputs":[
    
   ],
   "metadata":{
    "datalore":{
     "node_id":"uXTbYtXUjxWcKqJuXHqY6Y",
     "type":"CODE",
     "hide_input_from_viewers":false,
     "hide_output_from_viewers":false
    }
   }
  },
  {
   "cell_type":"code",
   "source":[
    "#reading dataset\n",
    "fake = pd.read_csv('Fake[1].csv')\n",
    "true = pd.read_csv('True[1].csv')"
   ],
   "execution_count":2,
   "outputs":[
    
   ],
   "metadata":{
    "datalore":{
     "node_id":"8je3SmMYU662cBPSGf0KEd",
     "type":"CODE",
     "hide_input_from_viewers":false,
     "hide_output_from_viewers":false
    }
   }
  },
  {
   "cell_type":"code",
   "source":[
    "fake.head(10)"
   ],
   "execution_count":3,
   "outputs":[
    {
     "data":{
      "text\/html":[
       "<div>\n",
       "<style scoped>\n",
       "    .dataframe tbody tr th:only-of-type {\n",
       "        vertical-align: middle;\n",
       "    }\n",
       "\n",
       "    .dataframe tbody tr th {\n",
       "        vertical-align: top;\n",
       "    }\n",
       "\n",
       "    .dataframe thead th {\n",
       "        text-align: right;\n",
       "    }\n",
       "<\/style>\n",
       "<table border=\"1\" class=\"dataframe\">\n",
       "  <thead>\n",
       "    <tr style=\"text-align: right;\">\n",
       "      <th><\/th>\n",
       "      <th>title<\/th>\n",
       "      <th>text<\/th>\n",
       "      <th>subject<\/th>\n",
       "      <th>date<\/th>\n",
       "    <\/tr>\n",
       "  <\/thead>\n",
       "  <tbody>\n",
       "    <tr>\n",
       "      <th>0<\/th>\n",
       "      <td>Donald Trump Sends Out Embarrassing New Year’...<\/td>\n",
       "      <td>Donald Trump just couldn t wish all Americans ...<\/td>\n",
       "      <td>News<\/td>\n",
       "      <td>December 31, 2017<\/td>\n",
       "    <\/tr>\n",
       "    <tr>\n",
       "      <th>1<\/th>\n",
       "      <td>Drunk Bragging Trump Staffer Started Russian ...<\/td>\n",
       "      <td>House Intelligence Committee Chairman Devin Nu...<\/td>\n",
       "      <td>News<\/td>\n",
       "      <td>December 31, 2017<\/td>\n",
       "    <\/tr>\n",
       "    <tr>\n",
       "      <th>2<\/th>\n",
       "      <td>Sheriff David Clarke Becomes An Internet Joke...<\/td>\n",
       "      <td>On Friday, it was revealed that former Milwauk...<\/td>\n",
       "      <td>News<\/td>\n",
       "      <td>December 30, 2017<\/td>\n",
       "    <\/tr>\n",
       "    <tr>\n",
       "      <th>3<\/th>\n",
       "      <td>Trump Is So Obsessed He Even Has Obama’s Name...<\/td>\n",
       "      <td>On Christmas day, Donald Trump announced that ...<\/td>\n",
       "      <td>News<\/td>\n",
       "      <td>December 29, 2017<\/td>\n",
       "    <\/tr>\n",
       "    <tr>\n",
       "      <th>4<\/th>\n",
       "      <td>Pope Francis Just Called Out Donald Trump Dur...<\/td>\n",
       "      <td>Pope Francis used his annual Christmas Day mes...<\/td>\n",
       "      <td>News<\/td>\n",
       "      <td>December 25, 2017<\/td>\n",
       "    <\/tr>\n",
       "    <tr>\n",
       "      <th>5<\/th>\n",
       "      <td>Racist Alabama Cops Brutalize Black Boy While...<\/td>\n",
       "      <td>The number of cases of cops brutalizing and ki...<\/td>\n",
       "      <td>News<\/td>\n",
       "      <td>December 25, 2017<\/td>\n",
       "    <\/tr>\n",
       "    <tr>\n",
       "      <th>6<\/th>\n",
       "      <td>Fresh Off The Golf Course, Trump Lashes Out A...<\/td>\n",
       "      <td>Donald Trump spent a good portion of his day a...<\/td>\n",
       "      <td>News<\/td>\n",
       "      <td>December 23, 2017<\/td>\n",
       "    <\/tr>\n",
       "    <tr>\n",
       "      <th>7<\/th>\n",
       "      <td>Trump Said Some INSANELY Racist Stuff Inside ...<\/td>\n",
       "      <td>In the wake of yet another court decision that...<\/td>\n",
       "      <td>News<\/td>\n",
       "      <td>December 23, 2017<\/td>\n",
       "    <\/tr>\n",
       "    <tr>\n",
       "      <th>8<\/th>\n",
       "      <td>Former CIA Director Slams Trump Over UN Bully...<\/td>\n",
       "      <td>Many people have raised the alarm regarding th...<\/td>\n",
       "      <td>News<\/td>\n",
       "      <td>December 22, 2017<\/td>\n",
       "    <\/tr>\n",
       "    <tr>\n",
       "      <th>9<\/th>\n",
       "      <td>WATCH: Brand-New Pro-Trump Ad Features So Muc...<\/td>\n",
       "      <td>Just when you might have thought we d get a br...<\/td>\n",
       "      <td>News<\/td>\n",
       "      <td>December 21, 2017<\/td>\n",
       "    <\/tr>\n",
       "  <\/tbody>\n",
       "<\/table>\n",
       "<\/div>"
      ]
     },
     "metadata":{
      
     },
     "output_type":"display_data"
    }
   ],
   "metadata":{
    "datalore":{
     "node_id":"zdg2ofInrCZHPu1rRBlatc",
     "type":"CODE",
     "hide_input_from_viewers":false,
     "hide_output_from_viewers":false
    }
   }
  },
  {
   "cell_type":"code",
   "source":[
    "true.head(10)"
   ],
   "execution_count":4,
   "outputs":[
    {
     "data":{
      "text\/html":[
       "<div>\n",
       "<style scoped>\n",
       "    .dataframe tbody tr th:only-of-type {\n",
       "        vertical-align: middle;\n",
       "    }\n",
       "\n",
       "    .dataframe tbody tr th {\n",
       "        vertical-align: top;\n",
       "    }\n",
       "\n",
       "    .dataframe thead th {\n",
       "        text-align: right;\n",
       "    }\n",
       "<\/style>\n",
       "<table border=\"1\" class=\"dataframe\">\n",
       "  <thead>\n",
       "    <tr style=\"text-align: right;\">\n",
       "      <th><\/th>\n",
       "      <th>title<\/th>\n",
       "      <th>text<\/th>\n",
       "      <th>subject<\/th>\n",
       "      <th>date<\/th>\n",
       "    <\/tr>\n",
       "  <\/thead>\n",
       "  <tbody>\n",
       "    <tr>\n",
       "      <th>0<\/th>\n",
       "      <td>As U.S. budget fight looms, Republicans flip t...<\/td>\n",
       "      <td>WASHINGTON (Reuters) - The head of a conservat...<\/td>\n",
       "      <td>politicsNews<\/td>\n",
       "      <td>December 31, 2017<\/td>\n",
       "    <\/tr>\n",
       "    <tr>\n",
       "      <th>1<\/th>\n",
       "      <td>U.S. military to accept transgender recruits o...<\/td>\n",
       "      <td>WASHINGTON (Reuters) - Transgender people will...<\/td>\n",
       "      <td>politicsNews<\/td>\n",
       "      <td>December 29, 2017<\/td>\n",
       "    <\/tr>\n",
       "    <tr>\n",
       "      <th>2<\/th>\n",
       "      <td>Senior U.S. Republican senator: 'Let Mr. Muell...<\/td>\n",
       "      <td>WASHINGTON (Reuters) - The special counsel inv...<\/td>\n",
       "      <td>politicsNews<\/td>\n",
       "      <td>December 31, 2017<\/td>\n",
       "    <\/tr>\n",
       "    <tr>\n",
       "      <th>3<\/th>\n",
       "      <td>FBI Russia probe helped by Australian diplomat...<\/td>\n",
       "      <td>WASHINGTON (Reuters) - Trump campaign adviser ...<\/td>\n",
       "      <td>politicsNews<\/td>\n",
       "      <td>December 30, 2017<\/td>\n",
       "    <\/tr>\n",
       "    <tr>\n",
       "      <th>4<\/th>\n",
       "      <td>Trump wants Postal Service to charge 'much mor...<\/td>\n",
       "      <td>SEATTLE\/WASHINGTON (Reuters) - President Donal...<\/td>\n",
       "      <td>politicsNews<\/td>\n",
       "      <td>December 29, 2017<\/td>\n",
       "    <\/tr>\n",
       "    <tr>\n",
       "      <th>5<\/th>\n",
       "      <td>White House, Congress prepare for talks on spe...<\/td>\n",
       "      <td>WEST PALM BEACH, Fla.\/WASHINGTON (Reuters) - T...<\/td>\n",
       "      <td>politicsNews<\/td>\n",
       "      <td>December 29, 2017<\/td>\n",
       "    <\/tr>\n",
       "    <tr>\n",
       "      <th>6<\/th>\n",
       "      <td>Trump says Russia probe will be fair, but time...<\/td>\n",
       "      <td>WEST PALM BEACH, Fla (Reuters) - President Don...<\/td>\n",
       "      <td>politicsNews<\/td>\n",
       "      <td>December 29, 2017<\/td>\n",
       "    <\/tr>\n",
       "    <tr>\n",
       "      <th>7<\/th>\n",
       "      <td>Factbox: Trump on Twitter (Dec 29) - Approval ...<\/td>\n",
       "      <td>The following statements were posted to the ve...<\/td>\n",
       "      <td>politicsNews<\/td>\n",
       "      <td>December 29, 2017<\/td>\n",
       "    <\/tr>\n",
       "    <tr>\n",
       "      <th>8<\/th>\n",
       "      <td>Trump on Twitter (Dec 28) - Global Warming<\/td>\n",
       "      <td>The following statements were posted to the ve...<\/td>\n",
       "      <td>politicsNews<\/td>\n",
       "      <td>December 29, 2017<\/td>\n",
       "    <\/tr>\n",
       "    <tr>\n",
       "      <th>9<\/th>\n",
       "      <td>Alabama official to certify Senator-elect Jone...<\/td>\n",
       "      <td>WASHINGTON (Reuters) - Alabama Secretary of St...<\/td>\n",
       "      <td>politicsNews<\/td>\n",
       "      <td>December 28, 2017<\/td>\n",
       "    <\/tr>\n",
       "  <\/tbody>\n",
       "<\/table>\n",
       "<\/div>"
      ]
     },
     "metadata":{
      
     },
     "output_type":"display_data"
    }
   ],
   "metadata":{
    "datalore":{
     "node_id":"AtJdII36eVs8wBonr2SalP",
     "type":"CODE",
     "hide_input_from_viewers":false,
     "hide_output_from_viewers":false
    }
   }
  },
  {
   "cell_type":"code",
   "source":[
    "#adding new target feature class\n",
    "fake[\"class\"] = 0\n",
    "true[\"class\"] = 1"
   ],
   "execution_count":5,
   "outputs":[
    
   ],
   "metadata":{
    "datalore":{
     "node_id":"Q1scWjANXzHlSPokBz4Vqr",
     "type":"CODE",
     "hide_input_from_viewers":false,
     "hide_output_from_viewers":false
    }
   }
  },
  {
   "cell_type":"code",
   "source":[
    "#merging true and fake datasets\n",
    "merged = pd.concat([true,fake], axis = 0)"
   ],
   "execution_count":6,
   "outputs":[
    
   ],
   "metadata":{
    "datalore":{
     "node_id":"zi222fxkC3eWRe6zWylk4I",
     "type":"CODE",
     "hide_input_from_viewers":false,
     "hide_output_from_viewers":false
    }
   }
  },
  {
   "cell_type":"code",
   "source":[
    "#checking columns\n",
    "merged.columns"
   ],
   "execution_count":7,
   "outputs":[
    {
     "data":{
      "text\/plain":[
       "Index(['title', 'text', 'subject', 'date', 'class'], dtype='object')"
      ]
     },
     "metadata":{
      
     },
     "output_type":"display_data"
    }
   ],
   "metadata":{
    "datalore":{
     "node_id":"0x9Rj7N7El3XrBDykpxzXw",
     "type":"CODE",
     "hide_input_from_viewers":false,
     "hide_output_from_viewers":false
    }
   }
  },
  {
   "cell_type":"code",
   "source":[
    "#removing unwanted columns (title, subject, date)\n",
    "df = merged.drop([\"title\", \"subject\", \"date\"], axis = 1)"
   ],
   "execution_count":8,
   "outputs":[
    
   ],
   "metadata":{
    "datalore":{
     "node_id":"exI9FKuorazGnv2lbsRCvY",
     "type":"CODE",
     "hide_input_from_viewers":false,
     "hide_output_from_viewers":false
    }
   }
  },
  {
   "cell_type":"code",
   "source":[
    "#checking for null values\n",
    "df.isnull().sum()"
   ],
   "execution_count":9,
   "outputs":[
    {
     "data":{
      "text\/html":[
       "<pre>text     0\n",
       "class    0\n",
       "dtype: int64<\/pre>"
      ]
     },
     "metadata":{
      
     },
     "output_type":"display_data"
    }
   ],
   "metadata":{
    "datalore":{
     "node_id":"iBXZiRTriigftudH96G341",
     "type":"CODE",
     "hide_input_from_viewers":false,
     "hide_output_from_viewers":false
    }
   }
  },
  {
   "cell_type":"code",
   "source":[
    "#shuffling the dataframe\n",
    "#frac = 1 returns data in random order\n",
    "df = df.sample(frac = 1)"
   ],
   "execution_count":10,
   "outputs":[
    
   ],
   "metadata":{
    "datalore":{
     "node_id":"x0iUaTvOhHzcgKM0cODWK4",
     "type":"CODE",
     "hide_input_from_viewers":false,
     "hide_output_from_viewers":false
    }
   }
  },
  {
   "cell_type":"code",
   "source":[
    "df.head(10)"
   ],
   "execution_count":11,
   "outputs":[
    {
     "data":{
      "text\/html":[
       "<div>\n",
       "<style scoped>\n",
       "    .dataframe tbody tr th:only-of-type {\n",
       "        vertical-align: middle;\n",
       "    }\n",
       "\n",
       "    .dataframe tbody tr th {\n",
       "        vertical-align: top;\n",
       "    }\n",
       "\n",
       "    .dataframe thead th {\n",
       "        text-align: right;\n",
       "    }\n",
       "<\/style>\n",
       "<table border=\"1\" class=\"dataframe\">\n",
       "  <thead>\n",
       "    <tr style=\"text-align: right;\">\n",
       "      <th><\/th>\n",
       "      <th>text<\/th>\n",
       "      <th>class<\/th>\n",
       "    <\/tr>\n",
       "  <\/thead>\n",
       "  <tbody>\n",
       "    <tr>\n",
       "      <th>3426<\/th>\n",
       "      <td>Newsweek just published a damning investigativ...<\/td>\n",
       "      <td>0<\/td>\n",
       "    <\/tr>\n",
       "    <tr>\n",
       "      <th>1875<\/th>\n",
       "      <td>While campaigning, Donald Trump vowed to build...<\/td>\n",
       "      <td>0<\/td>\n",
       "    <\/tr>\n",
       "    <tr>\n",
       "      <th>21511<\/th>\n",
       "      <td>The LGBT Mafia and PC Police doing what they d...<\/td>\n",
       "      <td>0<\/td>\n",
       "    <\/tr>\n",
       "    <tr>\n",
       "      <th>14218<\/th>\n",
       "      <td>Yes, it s really hard to be a dictator in Amer...<\/td>\n",
       "      <td>0<\/td>\n",
       "    <\/tr>\n",
       "    <tr>\n",
       "      <th>4437<\/th>\n",
       "      <td>WASHINGTON (Reuters) - Republicans are poised ...<\/td>\n",
       "      <td>1<\/td>\n",
       "    <\/tr>\n",
       "    <tr>\n",
       "      <th>13381<\/th>\n",
       "      <td>Meanwhile, the Koch brothers are denying they ...<\/td>\n",
       "      <td>0<\/td>\n",
       "    <\/tr>\n",
       "    <tr>\n",
       "      <th>17141<\/th>\n",
       "      <td>BANGKOK (Reuters) - Rights groups on Wednesday...<\/td>\n",
       "      <td>1<\/td>\n",
       "    <\/tr>\n",
       "    <tr>\n",
       "      <th>16284<\/th>\n",
       "      <td>NAIROBI (Reuters) - Burundi s cabinet backed a...<\/td>\n",
       "      <td>1<\/td>\n",
       "    <\/tr>\n",
       "    <tr>\n",
       "      <th>12913<\/th>\n",
       "      <td>MEXICO CITY (Reuters) - Seven Latin American g...<\/td>\n",
       "      <td>1<\/td>\n",
       "    <\/tr>\n",
       "    <tr>\n",
       "      <th>10254<\/th>\n",
       "      <td>WASHINGTON (Reuters) - Republican U.S. Senate ...<\/td>\n",
       "      <td>1<\/td>\n",
       "    <\/tr>\n",
       "  <\/tbody>\n",
       "<\/table>\n",
       "<\/div>"
      ]
     },
     "metadata":{
      
     },
     "output_type":"display_data"
    }
   ],
   "metadata":{
    "datalore":{
     "node_id":"5UzP6nT5cuSPhM9XA2HJK7",
     "type":"CODE",
     "hide_input_from_viewers":false,
     "hide_output_from_viewers":false
    }
   }
  },
  {
   "cell_type":"code",
   "source":[
    "#resetting index\n",
    "df.reset_index(inplace = True)\n",
    "df.drop([\"index\"], axis = 1, inplace = True)"
   ],
   "execution_count":12,
   "outputs":[
    
   ],
   "metadata":{
    "datalore":{
     "node_id":"ioBwDNeeJfxNgJY8wkum7X",
     "type":"CODE",
     "hide_input_from_viewers":false,
     "hide_output_from_viewers":false
    }
   }
  },
  {
   "cell_type":"code",
   "source":[
    "df.head(10)"
   ],
   "execution_count":13,
   "outputs":[
    {
     "data":{
      "text\/html":[
       "<div>\n",
       "<style scoped>\n",
       "    .dataframe tbody tr th:only-of-type {\n",
       "        vertical-align: middle;\n",
       "    }\n",
       "\n",
       "    .dataframe tbody tr th {\n",
       "        vertical-align: top;\n",
       "    }\n",
       "\n",
       "    .dataframe thead th {\n",
       "        text-align: right;\n",
       "    }\n",
       "<\/style>\n",
       "<table border=\"1\" class=\"dataframe\">\n",
       "  <thead>\n",
       "    <tr style=\"text-align: right;\">\n",
       "      <th><\/th>\n",
       "      <th>text<\/th>\n",
       "      <th>class<\/th>\n",
       "    <\/tr>\n",
       "  <\/thead>\n",
       "  <tbody>\n",
       "    <tr>\n",
       "      <th>0<\/th>\n",
       "      <td>Newsweek just published a damning investigativ...<\/td>\n",
       "      <td>0<\/td>\n",
       "    <\/tr>\n",
       "    <tr>\n",
       "      <th>1<\/th>\n",
       "      <td>While campaigning, Donald Trump vowed to build...<\/td>\n",
       "      <td>0<\/td>\n",
       "    <\/tr>\n",
       "    <tr>\n",
       "      <th>2<\/th>\n",
       "      <td>The LGBT Mafia and PC Police doing what they d...<\/td>\n",
       "      <td>0<\/td>\n",
       "    <\/tr>\n",
       "    <tr>\n",
       "      <th>3<\/th>\n",
       "      <td>Yes, it s really hard to be a dictator in Amer...<\/td>\n",
       "      <td>0<\/td>\n",
       "    <\/tr>\n",
       "    <tr>\n",
       "      <th>4<\/th>\n",
       "      <td>WASHINGTON (Reuters) - Republicans are poised ...<\/td>\n",
       "      <td>1<\/td>\n",
       "    <\/tr>\n",
       "    <tr>\n",
       "      <th>5<\/th>\n",
       "      <td>Meanwhile, the Koch brothers are denying they ...<\/td>\n",
       "      <td>0<\/td>\n",
       "    <\/tr>\n",
       "    <tr>\n",
       "      <th>6<\/th>\n",
       "      <td>BANGKOK (Reuters) - Rights groups on Wednesday...<\/td>\n",
       "      <td>1<\/td>\n",
       "    <\/tr>\n",
       "    <tr>\n",
       "      <th>7<\/th>\n",
       "      <td>NAIROBI (Reuters) - Burundi s cabinet backed a...<\/td>\n",
       "      <td>1<\/td>\n",
       "    <\/tr>\n",
       "    <tr>\n",
       "      <th>8<\/th>\n",
       "      <td>MEXICO CITY (Reuters) - Seven Latin American g...<\/td>\n",
       "      <td>1<\/td>\n",
       "    <\/tr>\n",
       "    <tr>\n",
       "      <th>9<\/th>\n",
       "      <td>WASHINGTON (Reuters) - Republican U.S. Senate ...<\/td>\n",
       "      <td>1<\/td>\n",
       "    <\/tr>\n",
       "  <\/tbody>\n",
       "<\/table>\n",
       "<\/div>"
      ]
     },
     "metadata":{
      
     },
     "output_type":"display_data"
    }
   ],
   "metadata":{
    "datalore":{
     "node_id":"4h71KR9gHLzTTQMkA0KmC2",
     "type":"CODE",
     "hide_input_from_viewers":false,
     "hide_output_from_viewers":false
    }
   }
  },
  {
   "cell_type":"code",
   "source":[
    "#making function to process words\n",
    "import re\n",
    "import string\n",
    "def words(text):\n",
    "    text = text.lower()\n",
    "    text = re.sub('\\[.*?\\]', '', text)\n",
    "    text = re.sub(\"\\\\W\",\" \",text) \n",
    "    text = re.sub('https?:\/\/\\S+|www\\.\\S+', '', text)\n",
    "    text = re.sub('<.*?>+', '', text)\n",
    "    text = re.sub('[%s]' % re.escape(string.punctuation), '', text)\n",
    "    text = re.sub('\\n', '', text)\n",
    "    text = re.sub('\\w*\\d\\w*', '', text)    \n",
    "    return text"
   ],
   "execution_count":14,
   "outputs":[
    
   ],
   "metadata":{
    "datalore":{
     "node_id":"ZaJLOwYR6Z9ofKaTxoMbEo",
     "type":"CODE",
     "hide_input_from_viewers":false,
     "hide_output_from_viewers":false
    }
   }
  },
  {
   "cell_type":"code",
   "source":[
    "df[\"text\"] = df[\"text\"].apply(words)"
   ],
   "execution_count":15,
   "outputs":[
    
   ],
   "metadata":{
    "datalore":{
     "node_id":"HWVITEnum60PGohswwAqqP",
     "type":"CODE",
     "hide_input_from_viewers":false,
     "hide_output_from_viewers":false
    }
   }
  },
  {
   "cell_type":"code",
   "source":[
    "data = df[\"text\"]\n",
    "target = df[\"class\"]"
   ],
   "execution_count":16,
   "outputs":[
    
   ],
   "metadata":{
    "datalore":{
     "node_id":"MH6AVDtXR27vhivdXtzWb7",
     "type":"CODE",
     "hide_input_from_viewers":false,
     "hide_output_from_viewers":false
    }
   }
  },
  {
   "cell_type":"code",
   "source":[
    "#separating into training and testing data\n",
    "from sklearn.model_selection import train_test_split\n",
    "X_train, X_test, y_train, y_test = train_test_split(data, target, random_state=10)"
   ],
   "execution_count":17,
   "outputs":[
    
   ],
   "metadata":{
    "datalore":{
     "node_id":"8v8HwQQMIVIhiBLu1TKVMf",
     "type":"CODE",
     "hide_input_from_viewers":false,
     "hide_output_from_viewers":false
    }
   }
  },
  {
   "cell_type":"code",
   "source":[
    "#converting text to vector usinf tf idf vectorizer\n",
    "from sklearn.feature_extraction.text import TfidfVectorizer\n",
    "\n",
    "vectorization = TfidfVectorizer()\n",
    "XV_train = vectorization.fit_transform(X_train)\n",
    "XV_test = vectorization.transform(X_test)"
   ],
   "execution_count":18,
   "outputs":[
    
   ],
   "metadata":{
    "datalore":{
     "node_id":"ybjr52y9iUoQRw8iDZqnvL",
     "type":"CODE",
     "hide_input_from_viewers":false,
     "hide_output_from_viewers":false
    }
   }
  },
  {
   "cell_type":"code",
   "source":[
    "#using random forest classifier model\n",
    "from sklearn.ensemble import RandomForestClassifier\n",
    "forest = RandomForestClassifier(n_estimators=10, random_state=5)\n",
    "forest.fit(XV_train, y_train)"
   ],
   "execution_count":32,
   "outputs":[
    {
     "data":{
      "text\/plain":[
       "RandomForestClassifier(n_estimators=10, random_state=5)"
      ]
     },
     "metadata":{
      
     },
     "output_type":"display_data"
    }
   ],
   "metadata":{
    "datalore":{
     "node_id":"tpNOKb2oD8na6rJffdV2Nd",
     "type":"CODE",
     "hide_input_from_viewers":false,
     "hide_output_from_viewers":false
    }
   }
  },
  {
   "cell_type":"code",
   "source":[
    "#checking training score\n",
    "training_score = forest.predict(XV_train)\n",
    "print(\"training set score:\")\n",
    "forest.score(XV_train, y_train)"
   ],
   "execution_count":33,
   "outputs":[
    {
     "name":"stdout",
     "text":[
      "training set score:\n"
     ],
     "output_type":"stream"
    },
    {
     "data":{
      "text\/plain":[
       "0.99940605232679"
      ]
     },
     "metadata":{
      
     },
     "output_type":"display_data"
    }
   ],
   "metadata":{
    "datalore":{
     "node_id":"H6N2MRfuDy77alwrva2jaL",
     "type":"CODE",
     "hide_input_from_viewers":false,
     "hide_output_from_viewers":false
    }
   }
  },
  {
   "cell_type":"code",
   "source":[
    "#checking test score\n",
    "test_score = forest.predict(XV_test)\n",
    "print(\"test set score:\")\n",
    "forest.score(XV_test, y_test)"
   ],
   "execution_count":34,
   "outputs":[
    {
     "name":"stdout",
     "text":[
      "test set score:\n"
     ],
     "output_type":"stream"
    },
    {
     "data":{
      "text\/plain":[
       "0.9614253897550111"
      ]
     },
     "metadata":{
      
     },
     "output_type":"display_data"
    }
   ],
   "metadata":{
    "datalore":{
     "node_id":"d6ZMcjsWOQj2ZsNtDWMHHi",
     "type":"CODE",
     "hide_input_from_viewers":false,
     "hide_output_from_viewers":false
    }
   }
  }
 ],
 "metadata":{
  "kernelspec":{
   "display_name":"Python",
   "language":"python",
   "name":"python"
  },
  "datalore":{
   "version":1,
   "computation_mode":"JUPYTER",
   "packages":[
    
   ]
  }
 },
 "nbformat":4,
 "nbformat_minor":4
}
